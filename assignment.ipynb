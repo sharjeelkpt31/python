{
 "cells": [
  {
   "cell_type": "markdown",
   "id": "5937e99e",
   "metadata": {},
   "source": [
    "1-Write a program that will find all such numbers divisible by 7 but not a multiple of 5, between 2000 and 3200 (both included). The numbers obtained should be printed in a comma-separated sequence on a single line."
   ]
  },
  {
   "cell_type": "code",
   "execution_count": 1,
   "id": "30dd6509",
   "metadata": {},
   "outputs": [
    {
     "name": "stdout",
     "output_type": "stream",
     "text": [
      "2002,2009,2016,2023,2037,2044,2051,2058,2072,2079,2086,2093,2107,2114,2121,2128,2142,2149,2156,2163,2177,2184,2191,2198,2212,2219,2226,2233,2247,2254,2261,2268,2282,2289,2296,2303,2317,2324,2331,2338,2352,2359,2366,2373,2387,2394,2401,2408,2422,2429,2436,2443,2457,2464,2471,2478,2492,2499,2506,2513,2527,2534,2541,2548,2562,2569,2576,2583,2597,2604,2611,2618,2632,2639,2646,2653,2667,2674,2681,2688,2702,2709,2716,2723,2737,2744,2751,2758,2772,2779,2786,2793,2807,2814,2821,2828,2842,2849,2856,2863,2877,2884,2891,2898,2912,2919,2926,2933,2947,2954,2961,2968,2982,2989,2996,3003,3017,3024,3031,3038,3052,3059,3066,3073,3087,3094,3101,3108,3122,3129,3136,3143,3157,3164,3171,3178,3192,3199\n"
     ]
    }
   ],
   "source": [
    "list1=[]\n",
    "for i in range(2000,3201):\n",
    "    if i % 7 == 0 and i % 5 != 0:\n",
    "        list1.append(str(i))\n",
    "        \n",
    "print(','.join(list1))"
   ]
  },
  {
   "cell_type": "markdown",
   "id": "4e073153",
   "metadata": {},
   "source": [
    "2-Write a program that can compute the factorial of a given number. The results should be printed in a comma-separated sequence on a single line. Suppose the following input is supplied to the program: 8 Then, the output should be: 40320"
   ]
  },
  {
   "cell_type": "code",
   "execution_count": 2,
   "id": "5120c368",
   "metadata": {},
   "outputs": [
    {
     "name": "stdout",
     "output_type": "stream",
     "text": [
      "1,2,3,4,5,6,7,8\n",
      "40320\n"
     ]
    }
   ],
   "source": [
    "n = 8\n",
    "list2 = []\n",
    "factorial = 1\n",
    "for i in range(1, n + 1):\n",
    "    factorial *= i  \n",
    "    list2.append(str(i))\n",
    "    \n",
    "print(\",\".join(list2))    \n",
    "print(factorial)"
   ]
  },
  {
   "cell_type": "markdown",
   "id": "c55b07cc",
   "metadata": {},
   "source": [
    "3-With a given integral number n, write a program to generate a dictionary that contains (i, i*i), an integral number between 1 and n (both included). Then, the program should print the dictionary. Suppose the following input is supplied to the program: 8 Then, the output should be: {1: 1, 2: 4, 3: 9, 4: 16, 5: 25, 6: 36, 7: 49, 8: 64}"
   ]
  },
  {
   "cell_type": "code",
   "execution_count": 3,
   "id": "b80db7e0",
   "metadata": {},
   "outputs": [
    {
     "name": "stdout",
     "output_type": "stream",
     "text": [
      "{1: 1, 2: 4, 3: 9, 4: 16, 5: 25, 6: 36, 7: 49, 8: 64}\n"
     ]
    }
   ],
   "source": [
    "n=8\n",
    "dictionary_dict = {i: i * i for i in range(1, n + 1)}\n",
    "print(dictionary_dict)"
   ]
  },
  {
   "cell_type": "markdown",
   "id": "f0813351",
   "metadata": {},
   "source": [
    "4-Write a program that accepts a sequence of comma-separated numbers from the\n",
    "console and generates a list and a tuple that contains every number.\n",
    "Suppose the following input is supplied to the program: 34,67,55,33,12,98 Then,\n",
    "the output should be: ['34', '67', '55', '33', '12', '98'] ('34', '67', '55', '33', '12', '98')"
   ]
  },
  {
   "cell_type": "code",
   "execution_count": 4,
   "id": "b636e21a",
   "metadata": {},
   "outputs": [
    {
     "name": "stdout",
     "output_type": "stream",
     "text": [
      "['34', '67', '55', '33', '12', '98']\n",
      "('34', '67', '55', '33', '12', '98')\n"
     ]
    }
   ],
   "source": [
    "a = \"34,67,55,33,12,98\"\n",
    "num_list = a.split(',')\n",
    "num_tuple = tuple(num_list)\n",
    "print( num_list)\n",
    "print( num_tuple)"
   ]
  },
  {
   "cell_type": "markdown",
   "id": "d176ed4f",
   "metadata": {},
   "source": [
    "5-Define a class that has at least two methods: getString: to get a\n",
    "string from the console input printString: to print the \n",
    "string in upper case. Also, please include a simple test function to test the class methods."
   ]
  },
  {
   "cell_type": "code",
   "execution_count": 5,
   "id": "d5c09985",
   "metadata": {},
   "outputs": [
    {
     "name": "stdout",
     "output_type": "stream",
     "text": [
      "5]\n"
     ]
    }
   ],
   "source": [
    "class StringManipulator:\n",
    "    def getString(self):\n",
    "        self.input_string = input(\"Enter a string: \")\n",
    "    def printString(self):\n",
    "        print(self.input_string.upper())\n",
    "\n",
    "def test_string_manipulator():\n",
    "    sm = StringManipulator()\n",
    "    sm.getString()      \n",
    "    sm.printString() \n",
    "    \n",
    "test_string_manipulator()"
   ]
  },
  {
   "cell_type": "markdown",
   "id": "e2ed6e9e",
   "metadata": {},
   "source": [
    "6-A program that calculates and prints the value according to the given \n",
    "formula: Q = Square root of [(2 * C * D)/H] Following are the fixed values of C and H: C is 50. H is 30. D is\n",
    "the variable whose values should be input to your program in a comma-separated sequence. Example: Let us assume the\n",
    "following comma-separated input sequence is given to the program: 100,150,180 The output of the program should be 18,22,24"
   ]
  },
  {
   "cell_type": "code",
   "execution_count": 6,
   "id": "0d850456",
   "metadata": {},
   "outputs": [
    {
     "name": "stdout",
     "output_type": "stream",
     "text": [
      "4\n"
     ]
    }
   ],
   "source": [
    "import math\n",
    "C = 50\n",
    "H = 30\n",
    "x = input(\"Enter the values of D separated by commas: \")\n",
    "d=x.split(',')\n",
    "L1=[]\n",
    "for D in d:\n",
    "    D=int(D)\n",
    "    Q = math.sqrt((2 * C * D) / H)\n",
    "    L1.append(str(round(Q)))\n",
    "print(','.join(L1))"
   ]
  },
  {
   "cell_type": "markdown",
   "id": "c27e0c8d",
   "metadata": {},
   "source": [
    "7-Program which takes 2 digits, X, Y as input and generates a 2-dimensional array.\n",
    "The element value in the i-th row and j-th column of the array should be i*j. Note: i=0,1.., X-1; j=0,1,¡Y-1.\n",
    "Example: Suppose the following inputs are given to the program: 3,5 Then,\n",
    "the output of the program should be: [[0, 0, 0, 0, 0], [0, 1, 2, 3, 4], [0, 2, 4, 6, 8]]"
   ]
  },
  {
   "cell_type": "code",
   "execution_count": 9,
   "id": "891e68ad",
   "metadata": {},
   "outputs": [
    {
     "data": {
      "text/plain": [
       "[[0, 0, 0, 0, 0], [0, 1, 2, 3, 4], [0, 2, 4, 6, 8]]"
      ]
     },
     "execution_count": 9,
     "metadata": {},
     "output_type": "execute_result"
    }
   ],
   "source": [
    "def generate_2dimensional_array(X, Y):\n",
    "    x = []\n",
    "    for i in range(X):\n",
    "        row = []\n",
    "        for j in range(Y):\n",
    "            row.append(i * j)     \n",
    "        x.append(row)\n",
    "    return x\n",
    "    \n",
    "n=input(\"Enter the two numbers X and Y separated by a comma: \")\n",
    "X_str, Y_str=n.split(',')\n",
    "X = int(X_str)\n",
    "Y = int(Y_str)\n",
    "generate_2dimensional_array(X, Y)"
   ]
  },
  {
   "cell_type": "markdown",
   "id": "ab980187",
   "metadata": {},
   "source": [
    "8-The program accepts a comma-separated sequence of words as input and prints the words in a comma-separated \n",
    "sequence after sorting them alphabetically. Suppose the following input is supplied to the program: without, hello, bag,\n",
    "world. Then, the output should be: bag, hello, without, world."
   ]
  },
  {
   "cell_type": "code",
   "execution_count": null,
   "id": "a89b8489",
   "metadata": {},
   "outputs": [],
   "source": [
    "user_input=input(\"Enter the words\")\n",
    "a=user_input.split(',')\n",
    "print(','.join(a))"
   ]
  },
  {
   "cell_type": "markdown",
   "id": "f245a19d",
   "metadata": {},
   "source": [
    "9-The program accepts a sequence of lines as input and prints the lines after making all characters \n",
    "in the sentence capitalized. Suppose the following input is supplied to the program: Hello world Practice \n",
    "makes perfect. Then, the output should be: HELLO WORLD PRACTICE MAKES PERFECT."
   ]
  },
  {
   "cell_type": "code",
   "execution_count": null,
   "id": "c0c381c8",
   "metadata": {},
   "outputs": [],
   "source": [
    "users_input=input(\"Enter the words\")\n",
    "x=users_input.upper()\n",
    "print(x)"
   ]
  },
  {
   "cell_type": "markdown",
   "id": "b3b28615",
   "metadata": {},
   "source": [
    "10-A program that accepts a sequence of whitespace-separated words as input and prints the \n",
    "words after removing all duplicate words and sorting them alphanumerically. Suppose the following input is supplied to the\n",
    "program: hello world and practice make perfect and hello world again. \n",
    "Then, the output should be: again and hello make perfect practice world"
   ]
  },
  {
   "cell_type": "code",
   "execution_count": null,
   "id": "a11bee45",
   "metadata": {},
   "outputs": [],
   "source": [
    "user_inputs=input(\"Enter the words:\")\n",
    "x=user_inputs.split(' ')\n",
    "unique_words=set(x)\n",
    "sorted_words=sorted(unique_words)\n",
    "print(' '.join(sorted_words))"
   ]
  },
  {
   "cell_type": "markdown",
   "id": "8031ef09",
   "metadata": {},
   "source": [
    "11-A program that accepts a sequence of comma-separated 4-digit binary numbers as its input and then \n",
    "checks whether they are divisible by 5 or not. The numbers that are divisible by 5 are to be printed in a comma-separated \n",
    "sequence. Example: 0100,0011,1010,1001 Then the output should be: 1010 Notes: Assume the data is input by the console."
   ]
  },
  {
   "cell_type": "code",
   "execution_count": null,
   "id": "ce72a6be",
   "metadata": {},
   "outputs": [],
   "source": [
    "user_input =input(\"Enter 4-digit binary numbers separated by commas: \")\n",
    "N=user_input.split(',')\n",
    "x=[]\n",
    "for i in N:\n",
    "    decimal_value=int(i, 2)\n",
    "    if decimal_value % 5==0:\n",
    "        x.append(i)\n",
    "print(','.join(x)) "
   ]
  },
  {
   "cell_type": "markdown",
   "id": "79a9bd0f",
   "metadata": {},
   "source": [
    "12-A program that will find all such numbers between 1000 and 3000 (both included) such \n",
    "that each digit of the number is an even number. The numbers obtained\n",
    "should be printed in a comma-separated sequence on a single line."
   ]
  },
  {
   "cell_type": "code",
   "execution_count": 11,
   "id": "c19986be",
   "metadata": {},
   "outputs": [
    {
     "name": "stdout",
     "output_type": "stream",
     "text": [
      "2000,2002,2004,2006,2008,2020,2022,2024,2026,2028,2040,2042,2044,2046,2048,2060,2062,2064,2066,2068,2080,2082,2084,2086,2088,2200,2202,2204,2206,2208,2220,2222,2224,2226,2228,2240,2242,2244,2246,2248,2260,2262,2264,2266,2268,2280,2282,2284,2286,2288,2400,2402,2404,2406,2408,2420,2422,2424,2426,2428,2440,2442,2444,2446,2448,2460,2462,2464,2466,2468,2480,2482,2484,2486,2488,2600,2602,2604,2606,2608,2620,2622,2624,2626,2628,2640,2642,2644,2646,2648,2660,2662,2664,2666,2668,2680,2682,2684,2686,2688,2800,2802,2804,2806,2808,2820,2822,2824,2826,2828,2840,2842,2844,2846,2848,2860,2862,2864,2866,2868,2880,2882,2884,2886,2888\n"
     ]
    }
   ],
   "source": [
    "v = []\n",
    "for number in range(1000, 3001):\n",
    "    num_str = str(number)\n",
    "    if all(int(i) % 2 == 0 for i in num_str):\n",
    "        v.append(num_str)\n",
    "        \n",
    "print(','.join(v))\n"
   ]
  },
  {
   "cell_type": "markdown",
   "id": "87206ebe",
   "metadata": {},
   "source": [
    "13-A program that accepts a sentence and calculates the number of letters and digits. Suppose \n",
    "the following input is supplied to the program: hello world! 123 Then, the output should be LETTERS 10 DIGITS 3."
   ]
  },
  {
   "cell_type": "code",
   "execution_count": null,
   "id": "3f6a9e33",
   "metadata": {},
   "outputs": [],
   "source": [
    "x=input(\"Enter a sentence: \")\n",
    "letters_count=0\n",
    "digits_count=0\n",
    "for char in x:\n",
    "    if char.isalpha():\n",
    "        letters_count+=1\n",
    "    if char.isdigit():\n",
    "        digits_count+=1\n",
    "\n",
    "print(f\"letters is:{letters_count} digits is:{digits_count}\")"
   ]
  },
  {
   "cell_type": "markdown",
   "id": "c9531fae",
   "metadata": {},
   "source": [
    "14-A program that accepts a sentence and calculates the number of upper case letters \n",
    "and lower case letters. Suppose the following input is supplied to the program: \n",
    "Hello world! Then, the output should be: UPPER CASE 1 LOWER CASE 9"
   ]
  },
  {
   "cell_type": "code",
   "execution_count": null,
   "id": "2052991c",
   "metadata": {},
   "outputs": [],
   "source": [
    "sentence = \"Hello world!\"\n",
    "upper_case_count = 0\n",
    "lower_case_count = 0\n",
    "for char in sentence:\n",
    "    if char.isupper():\n",
    "        upper_case_count += 1\n",
    "    if char.islower():\n",
    "        lower_case_count += 1\n",
    "        \n",
    "print(f'UPPER CASE {upper_case_count}')\n",
    "print(f'LOWER CASE {lower_case_count}')"
   ]
  },
  {
   "cell_type": "markdown",
   "id": "746ec383",
   "metadata": {},
   "source": [
    "15- program that computes the value of a+aa+aaa+aaaa with a given digit as the value of a.\n",
    "Suppose the following input is supplied to the program: 9 Then, the output should be: 11106"
   ]
  },
  {
   "cell_type": "code",
   "execution_count": null,
   "id": "9ecbe957",
   "metadata": {},
   "outputs": [],
   "source": [
    "a=\"9\"\n",
    "aa=a*2\n",
    "aaa=a*3\n",
    "aaaa=a*4\n",
    "y = int(a)+int(aa)+int(aaa)+int(aaaa)\n",
    "print(y)"
   ]
  },
  {
   "cell_type": "markdown",
   "id": "fbca9691",
   "metadata": {},
   "source": [
    "16-Use a list comprehension to square each odd number in a list. The \n",
    "list is input as a sequence of comma-separated numbers. Suppose the following input is supplied \n",
    "to the program: 1,2,3,4,5,6,7,8,9. Then, the output should be 1,3,5,7,9."
   ]
  },
  {
   "cell_type": "code",
   "execution_count": null,
   "id": "583522b9",
   "metadata": {},
   "outputs": [],
   "source": [
    "h=input(\"Enter the numbers seprated with commas\")\n",
    "numbers = list(map(int, h.split(',')))\n",
    "odd_numbers = [x for x in numbers if x % 2 != 0]\n",
    "print(odd_numbers)"
   ]
  },
  {
   "cell_type": "markdown",
   "id": "bfb2b80e",
   "metadata": {},
   "source": [
    "17-A program that computes the net amount of a bank account based on a transaction log \n",
    "from console input. The transaction log format is shown as follows: D 100 W 200. D means a deposit, while W \n",
    "means withdrawal. Suppose the following input is supplied to the program: D 300 D 300 W 200 D 100 Then, the output should be: 500"
   ]
  },
  {
   "cell_type": "code",
   "execution_count": null,
   "id": "69fbeb09",
   "metadata": {},
   "outputs": [],
   "source": [
    "def compute_net_amount(transaction_log):\n",
    "    net_amount=0\n",
    "    x=transaction_log.split()\n",
    "    \n",
    "    for i in range(0,len(x),2):\n",
    "        action=x[i]\n",
    "        amount=int(x[i + 1])\n",
    "        \n",
    "        if action=='D':\n",
    "            net_amount+=amount\n",
    "        if action=='W':\n",
    "            net_amount-=amount\n",
    "    \n",
    "    return net_amount\n",
    "\n",
    "transaction_log =\"D 300 D 300 W 200 D 100\"\n",
    "compute_net_amount(transaction_log)"
   ]
  },
  {
   "cell_type": "markdown",
   "id": "2c00aa8d",
   "metadata": {},
   "source": [
    "18-A program to compute 1/2+2/3+3/4+...+n/n+1 with a given n input by console (n>0). If the following n is provided as input to the program: 5. Then, the output of the program should be: 3.55"
   ]
  },
  {
   "cell_type": "code",
   "execution_count": null,
   "id": "376da988",
   "metadata": {},
   "outputs": [],
   "source": [
    "n = int(input(\"Enter a Number (n > 0): \"))\n",
    "if n > 0:\n",
    "    total = 0\n",
    "    for i in range(1, n + 1):\n",
    "        total += i / (i + 1)\n",
    "\n",
    "    j = float(total)\n",
    "    print(j)"
   ]
  },
  {
   "cell_type": "markdown",
   "id": "1a48afb3",
   "metadata": {},
   "source": [
    "19-A program that counts and prints each character's numbers in a string\n",
    "input by the console. Example: If the following string is given as input to the program:\n",
    "abcdefgabc Then, the output of the program should be: a,2 c,2 b,2 e,1 d,1 g,1 f,1"
   ]
  },
  {
   "cell_type": "code",
   "execution_count": 12,
   "id": "b3b366d0",
   "metadata": {},
   "outputs": [
    {
     "name": "stdout",
     "output_type": "stream",
     "text": [
      "a: 2, b: 2, c: 2, d: 1\n"
     ]
    }
   ],
   "source": [
    "from collections import Counter\n",
    "\n",
    "x = input(\"Enter the sentences and numbers: \")\n",
    "char_counts = Counter(x)\n",
    "output = ', '.join(f\"{char}: {count}\" for char, count in char_counts.items())\n",
    "print(output)\n"
   ]
  },
  {
   "cell_type": "markdown",
   "id": "c8c728dc",
   "metadata": {},
   "source": [
    "20-With two given lists [1,3,6,78,35,55] and [12,24,35,24,88,120,155],  write a program\n",
    "to make a list whose elements are the intersection of the above-given lists."
   ]
  },
  {
   "cell_type": "code",
   "execution_count": null,
   "id": "ef50ebd4",
   "metadata": {},
   "outputs": [],
   "source": [
    "L1=[1,3,6,78,35,55]\n",
    "L2=[12,24,35,24,88,120,155]\n",
    "intersection = list(set(L1)&set(L2))\n",
    "print(intersection)"
   ]
  },
  {
   "cell_type": "markdown",
   "id": "fc9e337f",
   "metadata": {},
   "source": [
    "21-Given an integer, n, perform the following conditional actions:\n",
    "If n is odd, print Weird\n",
    "If n is even and in the inclusive range of 2 to 5, print Not Weird\n",
    "If n is even and in the inclusive range of 6 to 20, print Weird\n",
    "If n is even and greater than 20, print Not Weird\n",
    "Input Format: A single line containing a positive integer, n.\n",
    "Constraints: 1 <= n <= 100"
   ]
  },
  {
   "cell_type": "code",
   "execution_count": null,
   "id": "00b4ac76",
   "metadata": {},
   "outputs": [],
   "source": [
    "n = int(input(\"Enter a positive integer: \"))\n",
    "if n % 2 == 1:\n",
    "    print(\"Weird\")\n",
    "if n % 2 == 0 and 2 <= n <= 5:\n",
    "    print(\"Not Weird\")\n",
    "if n % 2 == 0 and 6 <= n <= 20:\n",
    "    print(\"Weird\")\n",
    "if n % 2 == 0 and n > 20:\n",
    "    print(\"Not Weird\")"
   ]
  },
  {
   "cell_type": "markdown",
   "id": "b706da48",
   "metadata": {},
   "source": [
    "22-Write a function to determine if a given year is a leap year in the Gregorian calendar, based on these rules:\n",
    "Divisible by 4: Leap year\n",
    "Divisible by 100: Not a leap year, unless also divisible by 400\n",
    "Input\n",
    "An integer y where 1900≤y≤2050\n",
    "Output\n",
    "Return True if the year is a leap year, otherwise, return False.\n"
   ]
  },
  {
   "cell_type": "code",
   "execution_count": null,
   "id": "68244750",
   "metadata": {},
   "outputs": [],
   "source": [
    "n = int(input(\"Enter the year: \"))\n",
    "if (n % 4 == 0 and n % 100 != 0):\n",
    "    print(\"Leap year: True\")\n",
    "else:\n",
    "    print(\"not a Leap year: False\")"
   ]
  },
  {
   "cell_type": "markdown",
   "id": "a8cb6e96",
   "metadata": {},
   "source": [
    "23-Given the scores of participants in a sports event, find the second-highest (runner-up) score.\n",
    "Input\n",
    "The first line contains an integer n (the number of scores).\n",
    "The second line contains n space-separated integers, representing the scores.\n",
    "Output\n",
    "Print the second-highest score.\n"
   ]
  },
  {
   "cell_type": "code",
   "execution_count": null,
   "id": "be5fc981",
   "metadata": {},
   "outputs": [],
   "source": [
    "def find_second_highest(score):\n",
    "    unique_score=list(set(score))\n",
    "    x=unique_score.sort(reverse=True)\n",
    "    return unique_score[1]\n",
    "\n",
    "score=(2,3,6,6,5)\n",
    "find_second_highest(score)"
   ]
  },
  {
   "cell_type": "markdown",
   "id": "3c78b75f",
   "metadata": {},
   "source": [
    "24-Given a string, swap the case of each letter: convert lowercase letters to uppercase, and uppercase letters to lowercase.\n",
    "Input\n",
    "A single string S.\n",
    "Output\n",
    "The modified string with swapped cases."
   ]
  },
  {
   "cell_type": "code",
   "execution_count": null,
   "id": "fa8a558a",
   "metadata": {},
   "outputs": [],
   "source": [
    "def swap_case(S):\n",
    "    return S.swapcase()\n",
    "\n",
    "n = \"Pythonist 2\"\n",
    "x = swap_case(n)\n",
    "print(x)"
   ]
  }
 ],
 "metadata": {
  "kernelspec": {
   "display_name": "Python 3",
   "language": "python",
   "name": "python3"
  },
  "language_info": {
   "codemirror_mode": {
    "name": "ipython",
    "version": 3
   },
   "file_extension": ".py",
   "mimetype": "text/x-python",
   "name": "python",
   "nbconvert_exporter": "python",
   "pygments_lexer": "ipython3",
   "version": "3.12.5"
  }
 },
 "nbformat": 4,
 "nbformat_minor": 5
}
